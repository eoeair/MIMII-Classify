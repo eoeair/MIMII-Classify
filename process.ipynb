{
 "cells": [
  {
   "cell_type": "code",
   "execution_count": 2,
   "metadata": {},
   "outputs": [
    {
     "name": "stdout",
     "output_type": "stream",
     "text": [
      "Looking in indexes: https://mirrors.ustc.edu.cn/pypi/simple\n",
      "Requirement already satisfied: scikit-learn in /mnt/bs_nsl/workspace/.venv/lib/python3.11/site-packages (1.6.1)\n",
      "Requirement already satisfied: numpy>=1.19.5 in /mnt/bs_nsl/workspace/.venv/lib/python3.11/site-packages (from scikit-learn) (2.2.3)\n",
      "Requirement already satisfied: scipy>=1.6.0 in /mnt/bs_nsl/workspace/.venv/lib/python3.11/site-packages (from scikit-learn) (1.15.2)\n",
      "Requirement already satisfied: joblib>=1.2.0 in /mnt/bs_nsl/workspace/.venv/lib/python3.11/site-packages (from scikit-learn) (1.4.2)\n",
      "Requirement already satisfied: threadpoolctl>=3.1.0 in /mnt/bs_nsl/workspace/.venv/lib/python3.11/site-packages (from scikit-learn) (3.6.0)\n"
     ]
    }
   ],
   "source": [
    "!pip install scikit-learn"
   ]
  },
  {
   "cell_type": "markdown",
   "metadata": {},
   "source": [
    "split data to train/test"
   ]
  },
  {
   "cell_type": "code",
   "execution_count": 7,
   "metadata": {},
   "outputs": [
    {
     "name": "stdout",
     "output_type": "stream",
     "text": [
      "数据划分并导出完成！\n"
     ]
    }
   ],
   "source": [
    "import numpy as np\n",
    "\n",
    "# 加载数据\n",
    "data = np.load('data/mfcc_data.npy')\n",
    "label = np.load('data/label.npy')\n",
    "\n",
    "# reshape数据\n",
    "reshaped_data = data.reshape(3, 18019, 13,153)  # -1 表示自动推断最后一维的大小\n",
    "reshaped_label = label.reshape(3, 18019,3)\n",
    "\n",
    "# 初始化存储训练集和测试集的列表\n",
    "train_data_list = []\n",
    "test_data_list = []\n",
    "train_label_list = []\n",
    "test_label_list = []\n",
    "\n",
    "# 划分测试集\n",
    "for i in range(3):\n",
    "    sub_data = reshaped_data[i]\n",
    "    sub_label = reshaped_label[i]\n",
    "    \n",
    "    # 计算测试集的大小\n",
    "    test_size = int(0.2 * sub_data.shape[0])\n",
    "    \n",
    "    # 划分测试集和训练集\n",
    "    test_data = sub_data[:test_size]\n",
    "    train_data = sub_data[test_size:]\n",
    "    \n",
    "    test_label = sub_label[:test_size]\n",
    "    train_label = sub_label[test_size:]\n",
    "    \n",
    "    # 将划分后的数据添加到列表中\n",
    "    train_data_list.append(train_data)\n",
    "    test_data_list.append(test_data)\n",
    "    train_label_list.append(train_label)\n",
    "    test_label_list.append(test_label)\n",
    "\n",
    "# 合并数据\n",
    "train_data = np.concatenate(train_data_list, axis=0)\n",
    "test_data = np.concatenate(test_data_list, axis=0)\n",
    "train_label = np.concatenate(train_label_list, axis=0)\n",
    "test_label = np.concatenate(test_label_list, axis=0)\n",
    "\n",
    "np.save('data/train_data.npy', train_data)\n",
    "np.save('data/test_data.npy', test_data)\n",
    "np.save('data/train_label.npy', train_label)\n",
    "np.save('data/test_label.npy', test_label)\n",
    "\n",
    "print(\"数据划分并导出完成！\")"
   ]
  },
  {
   "cell_type": "markdown",
   "metadata": {},
   "source": [
    "train_snr(模态判断)\n",
    "\n",
    "`BEST ACC@1：99.3`"
   ]
  },
  {
   "cell_type": "code",
   "execution_count": null,
   "metadata": {},
   "outputs": [],
   "source": [
    "!python main.py "
   ]
  },
  {
   "cell_type": "markdown",
   "metadata": {},
   "source": [
    "train_device(设备判断)\n",
    "\n",
    "`BEST ACC@1：87.8`"
   ]
  },
  {
   "cell_type": "code",
   "execution_count": null,
   "metadata": {},
   "outputs": [],
   "source": [
    "!python main.py"
   ]
  },
  {
   "cell_type": "markdown",
   "metadata": {},
   "source": [
    "train_label(label判断)\n",
    "\n",
    "`BEST ACC@1：88.9`"
   ]
  },
  {
   "cell_type": "code",
   "execution_count": null,
   "metadata": {},
   "outputs": [],
   "source": [
    "!python main.py"
   ]
  }
 ],
 "metadata": {
  "kernelspec": {
   "display_name": ".venv (3.11.2)",
   "language": "python",
   "name": "python3"
  },
  "language_info": {
   "codemirror_mode": {
    "name": "ipython",
    "version": 3
   },
   "file_extension": ".py",
   "mimetype": "text/x-python",
   "name": "python",
   "nbconvert_exporter": "python",
   "pygments_lexer": "ipython3",
   "version": "3.11.2"
  }
 },
 "nbformat": 4,
 "nbformat_minor": 2
}
