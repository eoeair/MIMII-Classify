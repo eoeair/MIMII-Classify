{
 "cells": [
  {
   "cell_type": "code",
   "execution_count": 1,
   "metadata": {},
   "outputs": [
    {
     "name": "stdout",
     "output_type": "stream",
     "text": [
      "Looking in indexes: https://mirrors.bfsu.edu.cn/pypi/web/simple\n",
      "Requirement already satisfied: scikit-learn in /workspaces/rocm_workspace/.venv/lib/python3.12/site-packages (1.6.0)\n",
      "Requirement already satisfied: pyaml in /workspaces/rocm_workspace/.venv/lib/python3.12/site-packages (24.9.0)\n",
      "Collecting tensorboardX\n",
      "  Downloading https://mirrors.bfsu.edu.cn/pypi/web/packages/44/71/f3e7c9b2ab67e28c572ab4e9d5fa3499e0d252650f96d8a3a03e26677f53/tensorboardX-2.6.2.2-py2.py3-none-any.whl (101 kB)\n",
      "Requirement already satisfied: numpy>=1.19.5 in /workspaces/rocm_workspace/.venv/lib/python3.12/site-packages (from scikit-learn) (2.1.3)\n",
      "Requirement already satisfied: scipy>=1.6.0 in /workspaces/rocm_workspace/.venv/lib/python3.12/site-packages (from scikit-learn) (1.14.1)\n",
      "Requirement already satisfied: joblib>=1.2.0 in /workspaces/rocm_workspace/.venv/lib/python3.12/site-packages (from scikit-learn) (1.4.2)\n",
      "Requirement already satisfied: threadpoolctl>=3.1.0 in /workspaces/rocm_workspace/.venv/lib/python3.12/site-packages (from scikit-learn) (3.5.0)\n",
      "Requirement already satisfied: PyYAML in /workspaces/rocm_workspace/.venv/lib/python3.12/site-packages (from pyaml) (6.0.2)\n",
      "Requirement already satisfied: packaging in /workspaces/rocm_workspace/.venv/lib/python3.12/site-packages (from tensorboardX) (24.2)\n",
      "Collecting protobuf>=3.20 (from tensorboardX)\n",
      "  Downloading https://mirrors.bfsu.edu.cn/pypi/web/packages/04/52/c97c58a33b3d6c89a8138788576d372a90a6556f354799971c6b4d16d871/protobuf-5.29.1-cp38-abi3-manylinux2014_x86_64.whl (319 kB)\n",
      "Installing collected packages: protobuf, tensorboardX\n",
      "Successfully installed protobuf-5.29.1 tensorboardX-2.6.2.2\n"
     ]
    }
   ],
   "source": [
    "!pip install scikit-learn pyaml tensorboardX"
   ]
  },
  {
   "cell_type": "markdown",
   "metadata": {},
   "source": [
    "split data to train/test"
   ]
  },
  {
   "cell_type": "code",
   "execution_count": 1,
   "metadata": {},
   "outputs": [],
   "source": [
    "import pickle\n",
    "from sklearn.model_selection import train_test_split\n",
    "\n",
    "# 读取数据\n",
    "with open('data/data.pkl', 'rb') as file:\n",
    "    data = pickle.load(file)\n",
    "\n",
    "# 训练集，测试集索引\n",
    "train_idx, test_idx = train_test_split(range(len(data[0])), test_size=0.2, random_state=42)\n",
    "\n",
    "train = [[] for _ in data]\n",
    "test = [[] for _ in data]\n",
    "\n",
    "for i,snr in enumerate(data):\n",
    "    for j in range(len(snr)):\n",
    "        if j in train_idx:\n",
    "            train[i].append(snr[j])\n",
    "        elif j in test_idx:\n",
    "            test[i].append(snr[j])\n",
    "\n",
    "with open('data/train.pkl', 'wb') as f:\n",
    "    pickle.dump(train, f)\n",
    "with open('data/test.pkl', 'wb') as f:\n",
    "    pickle.dump(test, f)"
   ]
  },
  {
   "cell_type": "markdown",
   "metadata": {},
   "source": [
    "# 无监督"
   ]
  },
  {
   "cell_type": "markdown",
   "metadata": {},
   "source": [
    "train_snr(模态判断)\n",
    "\n",
    "`BEST ACC@1：92.3`"
   ]
  },
  {
   "cell_type": "code",
   "execution_count": 1,
   "metadata": {},
   "outputs": [
    {
     "name": "stdout",
     "output_type": "stream",
     "text": [
      "/home/wode/workspace/.venv/lib/python3.11/site-packages/numpy/_core/getlimits.py:551: UserWarning: Signature b'\\x00\\xd0\\xcc\\xcc\\xcc\\xcc\\xcc\\xcc\\xfb\\xbf\\x00\\x00\\x00\\x00\\x00\\x00' for <class 'numpy.longdouble'> does not match any known type: falling back to type probe function.\n",
      "This warnings indicates broken support for the dtype!\n",
      "  machar = _get_machar(dtype)\n",
      "/home/wode/workspace/.venv/lib/python3.11/site-packages/torch/utils/data/dataloader.py:617: UserWarning: This DataLoader will create 8 worker processes in total. Our suggested max number of worker in current system is 4, which is smaller than what this DataLoader is going to create. Please be aware that excessive worker creation might get DataLoader running slow or even freeze, lower the worker number to avoid potential slowness/freeze if necessary.\n",
      "  warnings.warn(\n",
      "Traceback (most recent call last):\n",
      "  File \"/home/wode/workspace/MIMII-code2/main.py\", line 252, in <module>\n",
      "    processor = Processor(arg)\n",
      "                ^^^^^^^^^^^^^^\n",
      "  File \"/home/wode/workspace/MIMII-code2/main.py\", line 27, in __init__\n",
      "    self.load_model()\n",
      "  File \"/home/wode/workspace/MIMII-code2/main.py\", line 53, in load_model\n",
      "    self.model = BYOL(self.arg).to(self.device)\n",
      "                 ^^^^^^^^^^^^^^^^^^^^^^^^^^^^^^\n",
      "  File \"/home/wode/workspace/.venv/lib/python3.11/site-packages/torch/nn/modules/module.py\", line 1299, in to\n",
      "    device, dtype, non_blocking, convert_to_format = torch._C._nn._parse_to(\n",
      "                                                     ^^^^^^^^^^^^^^^^^^^^^^^\n",
      "RuntimeError: Cannot access accelerator device when none is available.\n"
     ]
    }
   ],
   "source": [
    "!python main.py --phase train --config config/train_snr.yaml"
   ]
  },
  {
   "cell_type": "code",
   "execution_count": null,
   "metadata": {},
   "outputs": [],
   "source": [
    "!python main.py --phase test --config config/test_snr.yaml"
   ]
  },
  {
   "cell_type": "markdown",
   "metadata": {},
   "source": [
    "train_device(设备判断)\n",
    "\n",
    "`BEST ACC@1：`"
   ]
  },
  {
   "cell_type": "code",
   "execution_count": null,
   "metadata": {},
   "outputs": [],
   "source": [
    "!python main.py --config config/train_device.yaml"
   ]
  },
  {
   "cell_type": "code",
   "execution_count": null,
   "metadata": {},
   "outputs": [],
   "source": [
    "!python main.py --config config/test_device.yaml"
   ]
  },
  {
   "cell_type": "markdown",
   "metadata": {},
   "source": [
    "train_label(label判断)\n",
    "\n",
    "`BEST ACC@1：`"
   ]
  },
  {
   "cell_type": "code",
   "execution_count": null,
   "metadata": {},
   "outputs": [],
   "source": [
    "!python main.py --config config/train_label.yaml"
   ]
  },
  {
   "cell_type": "code",
   "execution_count": null,
   "metadata": {},
   "outputs": [],
   "source": [
    "!python main.py --config config/test_label.yaml"
   ]
  }
 ],
 "metadata": {
  "kernelspec": {
   "display_name": ".venv",
   "language": "python",
   "name": "python3"
  },
  "language_info": {
   "codemirror_mode": {
    "name": "ipython",
    "version": 3
   },
   "file_extension": ".py",
   "mimetype": "text/x-python",
   "name": "python",
   "nbconvert_exporter": "python",
   "pygments_lexer": "ipython3",
   "version": "3.11.2"
  }
 },
 "nbformat": 4,
 "nbformat_minor": 2
}
